{
  "nbformat": 4,
  "nbformat_minor": 5,
  "metadata": {
    "kernelspec": {
      "display_name": "Python 3 (ipykernel)",
      "language": "python",
      "name": "python3"
    },
    "language_info": {
      "codemirror_mode": {
        "name": "ipython",
        "version": 3
      },
      "file_extension": ".py",
      "mimetype": "text/x-python",
      "name": "python",
      "nbconvert_exporter": "python",
      "pygments_lexer": "ipython3",
      "version": "3.9.5"
    },
    "colab": {
      "name": "recording voice.ipynb",
      "provenance": [],
      "include_colab_link": true
    }
  },
  "cells": [
    {
      "cell_type": "markdown",
      "metadata": {
        "id": "view-in-github",
        "colab_type": "text"
      },
      "source": [
        "<a href=\"https://colab.research.google.com/github/SihyunPark01/AI_Speaker/blob/main/recording_voice.ipynb\" target=\"_parent\"><img src=\"https://colab.research.google.com/assets/colab-badge.svg\" alt=\"Open In Colab\"/></a>"
      ]
    },
    {
      "cell_type": "markdown",
      "metadata": {
        "id": "d4e5df97"
      },
      "source": [
        "# 음성 녹음\n",
        "\n",
        "### 마이크를 통해 입력된 음성을 녹음한 후 파일로 저장해주는 기능"
      ],
      "id": "d4e5df97"
    },
    {
      "cell_type": "markdown",
      "metadata": {
        "id": "14022d7c"
      },
      "source": [
        "## 1. 모듈 가져오기"
      ],
      "id": "14022d7c"
    },
    {
      "cell_type": "code",
      "metadata": {
        "id": "efdd9e8d"
      },
      "source": [
        "import requests\n",
        "import speech_recognition as sr\n",
        "import multiprocessing\n",
        "from playsound import playsound"
      ],
      "id": "efdd9e8d",
      "execution_count": null,
      "outputs": []
    },
    {
      "cell_type": "markdown",
      "metadata": {
        "id": "5e72a7b5"
      },
      "source": [
        "## 2. 음성 녹음 함수"
      ],
      "id": "5e72a7b5"
    },
    {
      "cell_type": "code",
      "metadata": {
        "id": "7d5d44c2"
      },
      "source": [
        "def RecordVoice():\n",
        "    audio = ''\n",
        "    r = sr.Recognizer()\n",
        "    with sr.Microphone(sample_rate=16000) as source:\n",
        "        print(\"Speak Anything :\")\n",
        "        audio = r.listen(source)\n",
        "    return audio"
      ],
      "id": "7d5d44c2",
      "execution_count": null,
      "outputs": []
    },
    {
      "cell_type": "markdown",
      "metadata": {
        "id": "cf6cb3b2"
      },
      "source": [
        "## 3. 음성 파일 저장 함수"
      ],
      "id": "cf6cb3b2"
    },
    {
      "cell_type": "code",
      "metadata": {
        "id": "e7241011"
      },
      "source": [
        "def SaveVoiceStream(path, audio):\n",
        "    print('SaveVoiceStream', path)\n",
        "    with open(path, \"wb\") as f:\n",
        "        f.write(audio.get_wav_data())\n",
        "        return"
      ],
      "id": "e7241011",
      "execution_count": null,
      "outputs": []
    },
    {
      "cell_type": "markdown",
      "metadata": {
        "id": "ba93b5e5"
      },
      "source": [
        "## 4. 음성 파일 재생 함수"
      ],
      "id": "ba93b5e5"
    },
    {
      "cell_type": "code",
      "metadata": {
        "id": "4a71250f"
      },
      "source": [
        "def PlayAudio(path):\n",
        "    print('PlayAudio', path)\n",
        "    p = multiprocessing.Process(target=playsound, args=(path,))\n",
        "    p.start()\n",
        "    return p"
      ],
      "id": "4a71250f",
      "execution_count": null,
      "outputs": []
    },
    {
      "cell_type": "markdown",
      "metadata": {
        "id": "6c2635c6"
      },
      "source": [
        "## 5. 함수 테스트"
      ],
      "id": "6c2635c6"
    },
    {
      "cell_type": "code",
      "metadata": {
        "id": "067502a2",
        "outputId": "255444ef-21e8-47bf-8d71-490c6db2b336"
      },
      "source": [
        "if __name__ == \"__main__\":\n",
        "    path = \"test.wav\"\n",
        "    audio = RecordVoice()\n",
        "    SaveVoiceStream(path, audio)\n",
        "    p = playsound(path)"
      ],
      "id": "067502a2",
      "execution_count": null,
      "outputs": [
        {
          "name": "stdout",
          "output_type": "stream",
          "text": [
            "Speak Anything :\n",
            "SaveVoiceStream test.wav\n",
            "okayVoice test.wav\n"
          ]
        }
      ]
    },
    {
      "cell_type": "code",
      "metadata": {
        "id": "b8368f90"
      },
      "source": [
        ""
      ],
      "id": "b8368f90",
      "execution_count": null,
      "outputs": []
    }
  ]
}