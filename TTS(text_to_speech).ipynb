{
  "nbformat": 4,
  "nbformat_minor": 5,
  "metadata": {
    "kernelspec": {
      "display_name": "Python 3 (ipykernel)",
      "language": "python",
      "name": "python3"
    },
    "language_info": {
      "codemirror_mode": {
        "name": "ipython",
        "version": 3
      },
      "file_extension": ".py",
      "mimetype": "text/x-python",
      "name": "python",
      "nbconvert_exporter": "python",
      "pygments_lexer": "ipython3",
      "version": "3.9.5"
    },
    "colab": {
      "name": "TTS(text-to-speech).ipynb",
      "provenance": [],
      "include_colab_link": true
    }
  },
  "cells": [
    {
      "cell_type": "markdown",
      "metadata": {
        "id": "view-in-github",
        "colab_type": "text"
      },
      "source": [
        "<a href=\"https://colab.research.google.com/github/SihyunPark01/AI_Speaker/blob/main/TTS(text_to_speech).ipynb\" target=\"_parent\"><img src=\"https://colab.research.google.com/assets/colab-badge.svg\" alt=\"Open In Colab\"/></a>"
      ]
    },
    {
      "cell_type": "markdown",
      "metadata": {
        "id": "d93d4aae"
      },
      "source": [
        "# 음성 합성: TTS(Text-to-Speech)\n",
        "\n",
        "### 구글 API 문서: https://developers.kakao.com/docs/latest/ko/voice/rest-api\n",
        "\n",
        "### Text를 음성으로 변환하는 문자-음성 변환 서비스\n",
        "\n",
        "### XML(SSML) 형식으로 합성하고자 하는 텍스트를 요청 바디에 담아 전송\n",
        "\n",
        "> **SSML(Speech Synthesis Markup Language)**<br>\n",
        "음성 합성에 사용되는 XML 기반 태그 언어(피치, 발음, 말하기 속도, 볼륨 조절 가능)\n",
        "\n",
        "### 카카오 SSML 문서: https://developers.kakao.com/assets/guide/kakao_ssml_guide.pdf\n",
        "\n",
        "### Request \n",
        "```\n",
        "POST /v1/synthesize HTTP/1.1\n",
        "Host: kakaoi-newtone-openapi.kakao.com\n",
        "Content-Type: application/xml\n",
        "Authorization: KakaoAK {REST_API_KEY}\n",
        "```"
      ],
      "id": "d93d4aae"
    },
    {
      "cell_type": "markdown",
      "metadata": {
        "id": "ad7f87dc"
      },
      "source": [
        "## 1. 모듈 가져오기"
      ],
      "id": "ad7f87dc"
    },
    {
      "cell_type": "code",
      "metadata": {
        "id": "4346d009"
      },
      "source": [
        "import requests\n",
        "import json\n",
        "import speech_recognition as sr\n",
        "import multiprocessing\n",
        "from playsound import playsound"
      ],
      "id": "4346d009",
      "execution_count": null,
      "outputs": []
    },
    {
      "cell_type": "markdown",
      "metadata": {
        "id": "613b2936"
      },
      "source": [
        "## 2. Request 파라미터 설정"
      ],
      "id": "613b2936"
    },
    {
      "cell_type": "code",
      "metadata": {
        "id": "735cbe70"
      },
      "source": [
        "url = \"https://kakaoi-newtone-openapi.kakao.com/v1/synthesize\"\n",
        "key = \"58df5a2afd5c776e6d4e95f5cabf709e\"\n",
        "headers = {\n",
        "    \"Content-Type\": \"application/xml\",\n",
        "    \"Authorization\": \"KakaoAK \" + key,\n",
        "}"
      ],
      "id": "735cbe70",
      "execution_count": null,
      "outputs": []
    },
    {
      "cell_type": "markdown",
      "metadata": {
        "id": "aa3b8a4f"
      },
      "source": [
        "## 3. TTS 요청 함수"
      ],
      "id": "aa3b8a4f"
    },
    {
      "cell_type": "code",
      "metadata": {
        "id": "e4af7387"
      },
      "source": [
        "def RequestTTS(data, path):\n",
        "    data = data.encode('utf-8').decode('latin1')\n",
        "    res = requests.post(url, headers=headers, data=data)\n",
        "    if (res.status_code == 200):\n",
        "        with open(path, \"wb\") as f:\n",
        "            f.write(res.content)\n",
        "    return res"
      ],
      "id": "e4af7387",
      "execution_count": null,
      "outputs": []
    },
    {
      "cell_type": "markdown",
      "metadata": {
        "id": "9b97017f"
      },
      "source": [
        "## 4. 음성파일 재생함수"
      ],
      "id": "9b97017f"
    },
    {
      "cell_type": "code",
      "metadata": {
        "id": "8b9b74b2"
      },
      "source": [
        "def PlayAudio(path):\n",
        "    p = multiprocessing.Process(target=playsound, args=(path,))\n",
        "    p.start()\n",
        "    return p"
      ],
      "id": "8b9b74b2",
      "execution_count": null,
      "outputs": []
    },
    {
      "cell_type": "markdown",
      "metadata": {
        "id": "f3bec5b6"
      },
      "source": [
        "## 4. 함수 테스트\n",
        "\n",
        "### 1) text 데이터 준비\n",
        "\n",
        "### 2) TTS 요청 전송 => 음성으로 변환된 데이터 수신 => 파일에 저장\n",
        "\n",
        "### 3) 음성파일 재생\n"
      ],
      "id": "f3bec5b6"
    },
    {
      "cell_type": "code",
      "metadata": {
        "id": "ee1d4c75"
      },
      "source": [
        "if __name__ == \"__main__\":\n",
        "    \n",
        "    path = \"hello.mp3\"\n",
        "    \n",
        "    data = f'<speak>안녕하세요. 반가워요.</speak>'\n",
        "\n",
        "    res = RequestTTS(data, path)  # TTS 요청, 파일 저장\n",
        "    if (res.status_code != 200):\n",
        "        print(f'TTS 요청이 실패하였습니다.(code={res.json()[\"msg\"]})')\n",
        "    else:\n",
        "        p = PlayAudio(path) # 음성파일 재생"
      ],
      "id": "ee1d4c75",
      "execution_count": null,
      "outputs": []
    },
    {
      "cell_type": "markdown",
      "metadata": {
        "id": "cfa5eb7b"
      },
      "source": [
        "# 6. SSML 사용"
      ],
      "id": "cfa5eb7b"
    },
    {
      "cell_type": "code",
      "metadata": {
        "id": "c65181d7"
      },
      "source": [
        "if __name__ == \"__main__\":\n",
        "    data = f'<speak>오늘은 <say-as interpret-as=\"kakao:none\">박주건</say-as>가 태어난 날로, <say-as interpretas=\"kakao:none\">부처님 오신날</say-as>예요.</speak>'\n",
        "    path = \"hello1.mp3\"\n",
        "    res = RequestTTS(data, path)\n",
        "    if (res.status_code != 200):\n",
        "        print(f'TTS 요청이 실패하였습니다.(code={res.json()[\"msg\"]})')\n",
        "    else:\n",
        "        p = PlayAudio(path)"
      ],
      "id": "c65181d7",
      "execution_count": null,
      "outputs": []
    },
    {
      "cell_type": "code",
      "metadata": {
        "id": "d1ac9e3b"
      },
      "source": [
        "        p.terminate()"
      ],
      "id": "d1ac9e3b",
      "execution_count": null,
      "outputs": []
    },
    {
      "cell_type": "code",
      "metadata": {
        "id": "da90bdcf"
      },
      "source": [
        ""
      ],
      "id": "da90bdcf",
      "execution_count": null,
      "outputs": []
    }
  ]
}