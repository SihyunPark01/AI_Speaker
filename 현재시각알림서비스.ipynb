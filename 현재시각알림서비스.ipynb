{
  "nbformat": 4,
  "nbformat_minor": 5,
  "metadata": {
    "kernelspec": {
      "display_name": "Python 3 (ipykernel)",
      "language": "python",
      "name": "python3"
    },
    "language_info": {
      "codemirror_mode": {
        "name": "ipython",
        "version": 3
      },
      "file_extension": ".py",
      "mimetype": "text/x-python",
      "name": "python",
      "nbconvert_exporter": "python",
      "pygments_lexer": "ipython3",
      "version": "3.9.5"
    },
    "colab": {
      "name": "현재시각알림서비스.ipynb",
      "provenance": [],
      "include_colab_link": true
    }
  },
  "cells": [
    {
      "cell_type": "markdown",
      "metadata": {
        "id": "view-in-github",
        "colab_type": "text"
      },
      "source": [
        "<a href=\"https://colab.research.google.com/github/SihyunPark01/AI_Speaker/blob/main/%ED%98%84%EC%9E%AC%EC%8B%9C%EA%B0%81%EC%95%8C%EB%A6%BC%EC%84%9C%EB%B9%84%EC%8A%A4.ipynb\" target=\"_parent\"><img src=\"https://colab.research.google.com/assets/colab-badge.svg\" alt=\"Open In Colab\"/></a>"
      ]
    },
    {
      "cell_type": "markdown",
      "metadata": {
        "id": "3d8a7d45"
      },
      "source": [
        "# 현재 시각을 음성으로 알려주는 서비스\n",
        "\n",
        "### 1) 음성 녹음\n",
        "### 2) 음성을 텍스트로 변환 (STT 서비스 요청->텍스트 수신)\n",
        "### 3) 텍스트에 '몇시' 라는 키워드가 포함되어 있는지 확인\n",
        "### 4) 현재 시각 계산\n",
        "### 5) 텍스트를 음성으로 변환(TTS 서비스 요청->음성 데이터 수신)\n",
        "### 6) 음성 데이터 재생"
      ],
      "id": "3d8a7d45"
    },
    {
      "cell_type": "markdown",
      "metadata": {
        "id": "dab4ab42"
      },
      "source": [
        "## 0. 모듈 가져오기"
      ],
      "id": "dab4ab42"
    },
    {
      "cell_type": "code",
      "metadata": {
        "id": "d9a119cd"
      },
      "source": [
        "import requests\n",
        "import json\n",
        "import speech_recognition as sr\n",
        "import multiprocessing\n",
        "from playsound import playsound\n",
        "from datetime import datetime\n",
        "from bs4 import BeautifulSoup"
      ],
      "id": "d9a119cd",
      "execution_count": null,
      "outputs": []
    },
    {
      "cell_type": "markdown",
      "metadata": {
        "id": "ba0e9f13"
      },
      "source": [
        "## 1. 음성 녹음 함수"
      ],
      "id": "ba0e9f13"
    },
    {
      "cell_type": "code",
      "metadata": {
        "id": "97750260"
      },
      "source": [
        "def RecordVoice():\n",
        "    r = sr.Recognizer()\n",
        "    with sr.Microphone(sample_rate=16000) as source:\n",
        "        print(\"Speak Anything :\")\n",
        "        audio = r.listen(source)\n",
        "        return audio"
      ],
      "id": "97750260",
      "execution_count": null,
      "outputs": []
    },
    {
      "cell_type": "markdown",
      "metadata": {
        "id": "5c0046cc"
      },
      "source": [
        "## 2. STT 서비스 처리 함수"
      ],
      "id": "5c0046cc"
    },
    {
      "cell_type": "code",
      "metadata": {
        "id": "bb1fbe3e"
      },
      "source": [
        "def RequestSTT(audio):\n",
        "    url = \"https://kakaoi-newtone-openapi.kakao.com/v1/recognize\"\n",
        "    key = \"58df5a2afd5c776e6d4e95f5cabf709e\"\n",
        "    headers = {\n",
        "        \"Content-Type\": \"application/octet-stream\",\n",
        "        \"Authorization\": \"KakaoAK \" + key,\n",
        "    }\n",
        "    res = requests.post(url, headers=headers, data=audio.get_raw_data())\n",
        "    \n",
        "    return res"
      ],
      "id": "bb1fbe3e",
      "execution_count": null,
      "outputs": []
    },
    {
      "cell_type": "markdown",
      "metadata": {
        "id": "72b5be7a"
      },
      "source": [
        "## 3. 키워드 비교 함수"
      ],
      "id": "72b5be7a"
    },
    {
      "cell_type": "code",
      "metadata": {
        "id": "71826b9f"
      },
      "source": [
        "def CompareKeyword(data):\n",
        "    json_string = data[data.index('{\"type\":\"finalResult\"'):data.rindex('}')+1]\n",
        "    result = json.loads(json_string)['value']\n",
        "    result = result.replace(\" \",\"\")\n",
        "    \n",
        "    if \"몇시\" in result:\n",
        "        return 'CURRENT_TIME'\n",
        "    else:\n",
        "        return 'UNKNOWN'"
      ],
      "id": "71826b9f",
      "execution_count": null,
      "outputs": []
    },
    {
      "cell_type": "markdown",
      "metadata": {
        "id": "086cdcb6"
      },
      "source": [
        "## 4. 현재 시각 구하는 함수"
      ],
      "id": "086cdcb6"
    },
    {
      "cell_type": "code",
      "metadata": {
        "id": "63ee4c7d"
      },
      "source": [
        "def ProcessCurrentTime(path):\n",
        "    print('ProcessCurrentTime', path)\n",
        "    now = datetime.today().strftime('%H:%M')\n",
        "    data = f'<speak>현재 시각은<break time=\"150ms\"/> \\\n",
        "        <say-as interpret-as=\"time\" format=\"hm24\"> {now} </say-as> 입니다</speak>'.encode('utf-8').decode('latin1')\n",
        "    res = RequestTTS(path, data)\n",
        "    if (res.status_code != 200):\n",
        "        print(f'TTS 요청이 실패하였습니다.(code={res.status_code})')\n",
        "        return -1\n",
        "    else:\n",
        "        return 0\n",
        "    "
      ],
      "id": "63ee4c7d",
      "execution_count": null,
      "outputs": []
    },
    {
      "cell_type": "markdown",
      "metadata": {
        "id": "1eb83e44"
      },
      "source": [
        "## 5. TTS 서비스 처리 함수"
      ],
      "id": "1eb83e44"
    },
    {
      "cell_type": "code",
      "metadata": {
        "id": "9731835c"
      },
      "source": [
        "def RequestTTS(path, data):\n",
        "    print('RequestTTS', path)\n",
        "    url = \"https://kakaoi-newtone-openapi.kakao.com/v1/synthesize\"\n",
        "    key = \"58df5a2afd5c776e6d4e95f5cabf709e\"\n",
        "    headers = {\n",
        "        \"Content-Type\": \"application/xml\",\n",
        "        \"Authorization\": \"KakaoAK \" + key,\n",
        "    }\n",
        "    res = requests.post(url, headers=headers, data=data)\n",
        "    if (res.status_code != 200):\n",
        "            print(f'TTS 요청이 실패하였습니다.(code={res.status_code})')\n",
        "            return res\n",
        "    else:\n",
        "        with open(path, \"wb\") as f:\n",
        "            f.write(res.content)\n",
        "        return res"
      ],
      "id": "9731835c",
      "execution_count": null,
      "outputs": []
    },
    {
      "cell_type": "markdown",
      "metadata": {
        "id": "435fc660"
      },
      "source": [
        "## 6. 음성 데이터 재생"
      ],
      "id": "435fc660"
    },
    {
      "cell_type": "code",
      "metadata": {
        "id": "5812229b"
      },
      "source": [
        "def PlayAudio(path):\n",
        "    print('PlayAudio', path)\n",
        "    p = multiprocessing.Process(target=playsound, args=(path,))\n",
        "    p.start()\n",
        "    return p"
      ],
      "id": "5812229b",
      "execution_count": null,
      "outputs": []
    },
    {
      "cell_type": "markdown",
      "metadata": {
        "id": "abca824e"
      },
      "source": [
        "## MAIN"
      ],
      "id": "abca824e"
    },
    {
      "cell_type": "code",
      "metadata": {
        "id": "6d0fcf73",
        "outputId": "d35777bc-8b84-4b10-e57c-e5669ebe6ed4"
      },
      "source": [
        "if __name__ == \"__main__\":\n",
        "    path = 'temp.mp3'\n",
        "    audio = RecordVoice()\n",
        "    res = RequestSTT(audio)\n",
        "    keyword = CompareKeyword(res.text)\n",
        "    if (keyword == 'CURRENT_TIME'):\n",
        "        res = ProcessCurrentTime(path)\n",
        "        if (res == 0):\n",
        "            p = PlayAudio(path)      \n",
        "    else:\n",
        "        res = ProcessNews(path)\n",
        "        if (res == 0):\n",
        "            p = PlayAudio(path)      \n",
        "    "
      ],
      "id": "6d0fcf73",
      "execution_count": null,
      "outputs": [
        {
          "name": "stdout",
          "output_type": "stream",
          "text": [
            "Speak Anything :\n",
            "ProcessCurrentTime temp.mp3\n",
            "RequestTTS temp.mp3\n",
            "PlayAudio temp.mp3\n"
          ]
        }
      ]
    },
    {
      "cell_type": "code",
      "metadata": {
        "id": "d4440f04"
      },
      "source": [
        ""
      ],
      "id": "d4440f04",
      "execution_count": null,
      "outputs": []
    }
  ]
}