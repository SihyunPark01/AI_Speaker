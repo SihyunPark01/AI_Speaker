{
  "nbformat": 4,
  "nbformat_minor": 5,
  "metadata": {
    "kernelspec": {
      "display_name": "Python 3 (ipykernel)",
      "language": "python",
      "name": "python3"
    },
    "language_info": {
      "codemirror_mode": {
        "name": "ipython",
        "version": 3
      },
      "file_extension": ".py",
      "mimetype": "text/x-python",
      "name": "python",
      "nbconvert_exporter": "python",
      "pygments_lexer": "ipython3",
      "version": "3.9.5"
    },
    "colab": {
      "name": "STT(speech-to-text).ipynb",
      "provenance": [],
      "include_colab_link": true
    }
  },
  "cells": [
    {
      "cell_type": "markdown",
      "metadata": {
        "id": "view-in-github",
        "colab_type": "text"
      },
      "source": [
        "<a href=\"https://colab.research.google.com/github/SihyunPark01/AI_Speaker/blob/main/STT(speech_to_text).ipynb\" target=\"_parent\"><img src=\"https://colab.research.google.com/assets/colab-badge.svg\" alt=\"Open In Colab\"/></a>"
      ]
    },
    {
      "cell_type": "markdown",
      "metadata": {
        "id": "43780e29"
      },
      "source": [
        "# 음성 인식: STT(Speech-to-Text)\n",
        "\n",
        "### 구글 API 문서: https://developers.kakao.com/docs/latest/ko/voice/rest-api\n",
        "\n",
        "###  사람이 말하는 음성 언어를 텍스트로 변환하는 서비스\n",
        "\n",
        "### 음성이 인식 될 때마다 중간 인식 결과를 반환\n",
        "\n",
        "### 음성이 끝날 때 최종 인식 결과를 반환\n",
        "\n",
        "### 음성 데이터는 Mono channel, 16000 Hz samplerate, 16 bit depth인 RAW PCM 포맷만 지원\n",
        "\n",
        "### 음성 데이터를 POST로 전송\n",
        "\n",
        "### 실시간 또는 크기가 큰 음성 파일의 전송은 Transfer-Encoding: chunked 헤더를 추가하고, chunk 단위로 전송\n",
        "\n",
        "### Request \n",
        "```\n",
        "POST /v1/recognize HTTP/1.1\n",
        "Host: kakaoi-newtone-openapi.kakao.com\n",
        "Transfer-Encoding: chunked\n",
        "Content-Type: application/octet-stream\n",
        "Authorization: KakaoAK {REST_API_KEY}\n",
        "```"
      ],
      "id": "43780e29"
    },
    {
      "cell_type": "markdown",
      "metadata": {
        "id": "007eb0a7"
      },
      "source": [
        "## 1. 모듈 가져오기"
      ],
      "id": "007eb0a7"
    },
    {
      "cell_type": "code",
      "metadata": {
        "id": "2a30f6fe"
      },
      "source": [
        "import requests\n",
        "import json\n",
        "import speech_recognition as sr"
      ],
      "id": "2a30f6fe",
      "execution_count": null,
      "outputs": []
    },
    {
      "cell_type": "markdown",
      "metadata": {
        "id": "65dd2efd"
      },
      "source": [
        "## 2. Request 파라미터 설정"
      ],
      "id": "65dd2efd"
    },
    {
      "cell_type": "code",
      "metadata": {
        "id": "49f93c51"
      },
      "source": [
        "url = \"https://kakaoi-newtone-openapi.kakao.com/v1/recognize\"\n",
        "key = \"58df5a2afd5c776e6d4e95f5cabf709e\"\n",
        "headers = {\n",
        "    \"Content-Type\": \"application/octet-stream\",\n",
        "    \"Authorization\": \"KakaoAK \" + key,\n",
        "}"
      ],
      "id": "49f93c51",
      "execution_count": null,
      "outputs": []
    },
    {
      "cell_type": "markdown",
      "metadata": {
        "id": "61ef893d"
      },
      "source": [
        "## 3. 음성 녹음 함수"
      ],
      "id": "61ef893d"
    },
    {
      "cell_type": "code",
      "metadata": {
        "id": "91c1b892"
      },
      "source": [
        "def RecordVoice():\n",
        "    r = sr.Recognizer()\n",
        "    with sr.Microphone(sample_rate=16000) as source:\n",
        "        print(\"Speak Anything :\")\n",
        "        audio = r.listen(source)\n",
        "        return audio"
      ],
      "id": "91c1b892",
      "execution_count": null,
      "outputs": []
    },
    {
      "cell_type": "markdown",
      "metadata": {
        "id": "39310a1c"
      },
      "source": [
        "## 4. 함수 테스트\n",
        "\n",
        "### 1) 음성 녹음\n",
        "### 2) 음성 데이터 전송 => 텍스트로 변환된 데이터 수신\n",
        "### 3) 텍스트 출력"
      ],
      "id": "39310a1c"
    },
    {
      "cell_type": "code",
      "metadata": {
        "id": "2a534cbd",
        "outputId": "67a0f4a7-e7be-4fb3-9c99-7c48a0d379c1"
      },
      "source": [
        "if __name__ == \"__main__\":\n",
        "    audio = RecordVoice()\n",
        "    res = requests.post(url, headers=headers, data=audio.get_raw_data())\n",
        "    print(res.text)"
      ],
      "id": "2a534cbd",
      "execution_count": null,
      "outputs": [
        {
          "name": "stdout",
          "output_type": "stream",
          "text": [
            "Speak Anything :\n",
            "------newtone43Rec5ZJF5N9v8fi\n",
            "Content-Type: application/json; charset=UTF-8\n",
            "\n",
            "{\"type\":\"beginPointDetection\",\"value\":\"BPD\"}\n",
            "------newtone43Rec5ZJF5N9v8fi\n",
            "Content-Type: application/json; charset=UTF-8\n",
            "\n",
            "{\"type\":\"partialResult\",\"value\":\"한\"}\n",
            "------newtone43Rec5ZJF5N9v8fi\n",
            "Content-Type: application/json; charset=UTF-8\n",
            "\n",
            "{\"type\":\"partialResult\",\"value\":\"안녕하세요\"}\n",
            "------newtone43Rec5ZJF5N9v8fi\n",
            "Content-Type: application/json; charset=UTF-8\n",
            "\n",
            "{\"type\":\"partialResult\",\"value\":\"안녕하세요 오늘\"}\n",
            "------newtone43Rec5ZJF5N9v8fi\n",
            "Content-Type: application/json; charset=UTF-8\n",
            "\n",
            "{\"type\":\"partialResult\",\"value\":\"안녕하세요 오늘은\"}\n",
            "------newtone43Rec5ZJF5N9v8fi\n",
            "Content-Type: application/json; charset=UTF-8\n",
            "\n",
            "{\"type\":\"partialResult\",\"value\":\"안녕하세요 오늘은 토요일\"}\n",
            "------newtone43Rec5ZJF5N9v8fi\n",
            "Content-Type: application/json; charset=UTF-8\n",
            "\n",
            "{\"type\":\"endPointDetection\",\"value\":\"EPD\"}\n",
            "------newtone43Rec5ZJF5N9v8fi\n",
            "Content-Type: application/json; charset=UTF-8\n",
            "Speech-Length: 3\n",
            "\n",
            "{\"type\":\"finalResult\",\"value\":\"안녕하세요 오늘은 토요일입니다\",\"nBest\":[{\"value\":\"안녕하세요 오늘은 토요일입니다\",\"score\":3}],\"voiceProfile\":{\"registered\":false,\"authenticated\":false},\"durationMS\":3340,\"qmarkScore\":0,\"gender\":0}\n",
            "------newtone43Rec5ZJF5N9v8fi--\n",
            "\n"
          ]
        }
      ]
    },
    {
      "cell_type": "code",
      "metadata": {
        "id": "282bbcf0",
        "outputId": "d3d3b068-3a00-4b48-f0b7-8395f184df86"
      },
      "source": [
        "    json_string = res.text[res.text.index('{\"type\":\"finalResult\"'):res.text.rindex('}')+1]\n",
        "    result = json.loads(json_string)['value']\n",
        "    print(result)"
      ],
      "id": "282bbcf0",
      "execution_count": null,
      "outputs": [
        {
          "name": "stdout",
          "output_type": "stream",
          "text": [
            "안녕하세요 오늘은 토요일입니다\n"
          ]
        }
      ]
    }
  ]
}